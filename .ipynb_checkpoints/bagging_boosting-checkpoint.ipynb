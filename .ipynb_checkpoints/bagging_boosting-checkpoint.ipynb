{
 "cells": [
  {
   "cell_type": "code",
   "execution_count": 87,
   "metadata": {
    "collapsed": false
   },
   "outputs": [],
   "source": [
    "import random\n",
    "from sklearn.tree import DecisionTreeClassifier\n",
    "from sklearn.ensemble import BaggingClassifier, RandomForestClassifier, AdaBoostClassifier, GradientBoostingClassifier\n",
    "from sklearn.tree import export_graphviz\n",
    "from sklearn import cross_validation\n",
    "from sklearn.datasets import load_digits, load_iris\n",
    "\n",
    "import numpy as np"
   ]
  },
  {
   "cell_type": "code",
   "execution_count": 90,
   "metadata": {
    "collapsed": true
   },
   "outputs": [],
   "source": [
    "class compare_classifiers:\n",
    "    \n",
    "    def __init__(self, dataset = load_digits(n_class=10)):\n",
    "        \n",
    "        self.clf_scores = []\n",
    "        self.bclf_scores = []\n",
    "        self.rfclf_scores = []\n",
    "        self.adaclf_scores = []\n",
    "        self.gbclf_scores = []\n",
    "        \n",
    "        self.named_score_list = [(\"Random Tree\", self.clf_scores), (\"Bagging\", self.bclf_scores),\n",
    "                                 (\"Random Forest\", self.rfclf_scores), (\"AdaBoost\", self.adaclf_scores), \n",
    "                                 (\"Gradient Boosting\", self.gbclf_scores)]\n",
    "        \n",
    "        self.dataset = dataset\n",
    "        \n",
    "        self.run()\n",
    "        self.print_scores()\n",
    "    \n",
    "    def run(self, times = 50):\n",
    "    \n",
    "        for i in range(times):\n",
    "            i = random.randint(1,100000)\n",
    "            X_train, X_test, y_train, y_test = cross_validation.train_test_split(self.dataset.data, self.dataset.target, test_size=0.4, random_state=i)\n",
    "\n",
    "            clf = DecisionTreeClassifier()\n",
    "            clf = clf.fit(X_train, y_train)\n",
    "            self.clf_scores.append(clf.score(X_test, y_test))\n",
    "\n",
    "            bclf = BaggingClassifier()\n",
    "            bclf = bclf.fit(X_train, y_train)\n",
    "            self.bclf_scores.append(bclf.score(X_test, y_test))\n",
    "\n",
    "            rfclf = RandomForestClassifier()\n",
    "            rfclf = rfclf.fit(X_train, y_train)\n",
    "            self.rfclf_scores.append(rfclf.score(X_test, y_test))\n",
    "\n",
    "            adaclf = AdaBoostClassifier(DecisionTreeClassifier(max_depth=1),\n",
    "                         algorithm=\"SAMME\",\n",
    "                         n_estimators=200)\n",
    "            adaclf = adaclf.fit(X_train, y_train)\n",
    "            self.adaclf_scores.append(adaclf.score(X_test, y_test))\n",
    "\n",
    "            gbclf = GradientBoostingClassifier()\n",
    "            gbclf = gbclf.fit(X_train, y_train)\n",
    "            self.gbclf_scores.append(gbclf.score(X_test, y_test))\n",
    "\n",
    "            \n",
    "    def print_scores(self):\n",
    "        for name, classifier in self.named_score_list:\n",
    "            print(\"{0} accuracy mean: {1}\\n{0} accuracy median: {2}\\n{0} accuracy stdev: {3}\\n\".format(name, np.mean(classifier),\n",
    "                                                                                                np.median(classifier),\n",
    "                                                                                                    np.std(classifier)))"
   ]
  },
  {
   "cell_type": "code",
   "execution_count": 91,
   "metadata": {
    "collapsed": false
   },
   "outputs": [
    {
     "name": "stdout",
     "output_type": "stream",
     "text": [
      "Random Tree accuracy mean: 0.8406397774687067\n",
      "Random Tree accuracy median: 0.8414464534075105\n",
      "Random Tree accuracy stdev: 0.014129231244981898\n",
      "\n",
      "Bagging accuracy mean: 0.9208623087621696\n",
      "Bagging accuracy median: 0.9235048678720446\n",
      "Bagging accuracy stdev: 0.012656467315716274\n",
      "\n",
      "Random Forest accuracy mean: 0.9376077885952712\n",
      "Random Forest accuracy median: 0.9381084840055632\n",
      "Random Forest accuracy stdev: 0.009350659629664393\n",
      "\n",
      "AdaBoost accuracy mean: 0.8442837273991654\n",
      "AdaBoost accuracy median: 0.844923504867872\n",
      "AdaBoost accuracy stdev: 0.024737784096652803\n",
      "\n",
      "Gradient Boosting accuracy mean: 0.9573574408901251\n",
      "Gradient Boosting accuracy median: 0.9568845618915159\n",
      "Gradient Boosting accuracy stdev: 0.006924051898632598\n",
      "\n"
     ]
    }
   ],
   "source": [
    "digit = compare_classifiers()"
   ]
  },
  {
   "cell_type": "code",
   "execution_count": 92,
   "metadata": {
    "collapsed": false,
    "scrolled": false
   },
   "outputs": [
    {
     "name": "stdout",
     "output_type": "stream",
     "text": [
      "Random Tree accuracy mean: 0.9463333333333334\n",
      "Random Tree accuracy median: 0.95\n",
      "Random Tree accuracy stdev: 0.02774687169554235\n",
      "\n",
      "Bagging accuracy mean: 0.9520000000000002\n",
      "Bagging accuracy median: 0.95\n",
      "Bagging accuracy stdev: 0.028990419873545198\n",
      "\n",
      "Random Forest accuracy mean: 0.9493333333333334\n",
      "Random Forest accuracy median: 0.95\n",
      "Random Forest accuracy stdev: 0.02707192067232927\n",
      "\n",
      "AdaBoost accuracy mean: 0.9410000000000001\n",
      "AdaBoost accuracy median: 0.95\n",
      "AdaBoost accuracy stdev: 0.022659312532476456\n",
      "\n",
      "Gradient Boosting accuracy mean: 0.9496666666666667\n",
      "Gradient Boosting accuracy median: 0.95\n",
      "Gradient Boosting accuracy stdev: 0.030090603922893342\n",
      "\n"
     ]
    }
   ],
   "source": [
    "iris = compare_classifiers(dataset = load_iris())"
   ]
  },
  {
   "cell_type": "code",
   "execution_count": null,
   "metadata": {
    "collapsed": false
   },
   "outputs": [],
   "source": []
  },
  {
   "cell_type": "code",
   "execution_count": null,
   "metadata": {
    "collapsed": false
   },
   "outputs": [],
   "source": []
  },
  {
   "cell_type": "code",
   "execution_count": null,
   "metadata": {
    "collapsed": true
   },
   "outputs": [],
   "source": []
  }
 ],
 "metadata": {
  "kernelspec": {
   "display_name": "Python 2",
   "language": "python",
   "name": "python2"
  },
  "language_info": {
   "codemirror_mode": {
    "name": "ipython",
    "version": 2
   },
   "file_extension": ".py",
   "mimetype": "text/x-python",
   "name": "python",
   "nbconvert_exporter": "python",
   "pygments_lexer": "ipython2",
   "version": "2.7.11"
  }
 },
 "nbformat": 4,
 "nbformat_minor": 0
}
